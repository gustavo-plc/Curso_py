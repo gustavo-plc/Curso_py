{
  "nbformat": 4,
  "nbformat_minor": 0,
  "metadata": {
    "colab": {
      "provenance": [],
      "mount_file_id": "1tyxtKPfTNBM7sTlShoIk9eRSTYMpxkco",
      "authorship_tag": "ABX9TyP2g4nyDwknHXhDEJZVQDNc",
      "include_colab_link": true
    },
    "kernelspec": {
      "name": "python3",
      "display_name": "Python 3"
    },
    "language_info": {
      "name": "python"
    }
  },
  "cells": [
    {
      "cell_type": "markdown",
      "metadata": {
        "id": "view-in-github",
        "colab_type": "text"
      },
      "source": [
        "<a href=\"https://colab.research.google.com/github/gustavo-plc/Curso_py/blob/main/Ci%C3%AAncia_de_Dados.ipynb\" target=\"_parent\"><img src=\"https://colab.research.google.com/assets/colab-badge.svg\" alt=\"Open In Colab\"/></a>"
      ]
    },
    {
      "cell_type": "code",
      "execution_count": null,
      "metadata": {
        "colab": {
          "base_uri": "https://localhost:8080/"
        },
        "id": "9OG3gi4XDQES",
        "outputId": "1c0e5457-c806-4d00-d47f-06cb4a4ce574"
      },
      "outputs": [
        {
          "output_type": "stream",
          "name": "stdout",
          "text": [
            "Primeiro código!\n"
          ]
        }
      ],
      "source": [
        "print('Primeiro código!')"
      ]
    },
    {
      "cell_type": "code",
      "source": [
        "valor_int = 3 #tipo inteiro\n",
        "valor_float = 1.5 #tipo ponto flutuante\n",
        "string = \"Olá mundo!\" #tipo string\n",
        "var_bool = True #tipo booleano\n",
        "var_complex = 3+4j\n",
        "\n",
        "print(type(valor_int))\n",
        "print(type(valor_float))\n",
        "print(type(string))\n",
        "print(type(var_bool))\n",
        "print(type(var_complex))"
      ],
      "metadata": {
        "colab": {
          "base_uri": "https://localhost:8080/"
        },
        "id": "gIuyaObnEBHL",
        "outputId": "aab001b3-72fe-452a-95f5-73cbedf2b4b8"
      },
      "execution_count": null,
      "outputs": [
        {
          "output_type": "stream",
          "name": "stdout",
          "text": [
            "<class 'int'>\n",
            "<class 'float'>\n",
            "<class 'str'>\n",
            "<class 'bool'>\n",
            "<class 'complex'>\n"
          ]
        }
      ]
    },
    {
      "cell_type": "code",
      "source": [
        "valor_int = 15\n",
        "valor_float = 1.5\n",
        "soma = valor_int + valor_float\n",
        "print(soma)\n",
        "print(type(soma))"
      ],
      "metadata": {
        "colab": {
          "base_uri": "https://localhost:8080/"
        },
        "id": "sW2WQJ4KE-Yt",
        "outputId": "cb025e23-c376-43f0-aace-cab77b331b2e"
      },
      "execution_count": null,
      "outputs": [
        {
          "output_type": "stream",
          "name": "stdout",
          "text": [
            "16.5\n",
            "<class 'float'>\n"
          ]
        }
      ]
    },
    {
      "cell_type": "code",
      "source": [
        "#conversão de um valor do tipo inteiro para um valor do tipo string\n",
        "a = 100\n",
        "b = str(a)\n",
        "print(b)\n",
        "print(type(b))\n",
        "\n",
        "#conversão de um valor do tipo float para um valor do tipo inteiro\n",
        "\n",
        "c = 12.00\n",
        "d = int(c) #uma espécia de casting - converte para o tipo especificado antes\n",
        "print(c)\n",
        "print(d)\n",
        "print(type(d))\n",
        "\n",
        "#conversão de um valor do tipo inteiro para um valor do tipo float\n",
        "\n",
        "e = 10\n",
        "f = float(e)\n",
        "print(f)\n",
        "print(type(f))"
      ],
      "metadata": {
        "colab": {
          "base_uri": "https://localhost:8080/"
        },
        "id": "Yy5f1hT6FTih",
        "outputId": "a1781149-b065-46f5-ed63-93f7d9a52d38"
      },
      "execution_count": null,
      "outputs": [
        {
          "output_type": "stream",
          "name": "stdout",
          "text": [
            "100\n",
            "<class 'str'>\n",
            "12.0\n",
            "12\n",
            "<class 'int'>\n",
            "10.0\n",
            "<class 'float'>\n"
          ]
        }
      ]
    },
    {
      "cell_type": "code",
      "source": [
        "#Expressões\n",
        "\n",
        "a = 10\n",
        "b = 3\n",
        "\n",
        "#soma do valor de duas variáveis\n",
        "\n",
        "soma = a + b\n",
        "\n",
        "#subtração do valor de duas variáveis\n",
        "\n",
        "sub = a - b\n",
        "\n",
        "#divisão do valor de duas variáveis\n",
        "\n",
        "div = a / b\n",
        "\n",
        "#multiplicação do valor de duas variáveis\n",
        "\n",
        "mult = a * b\n",
        "\n",
        "print(\"soma: %d\" % (soma))\n",
        "print(\"subtração: %d\" % (sub))\n",
        "print(\"divisão inteira: %d\" % (div)) #inteira\n",
        "print(\"divisão fracionada: %.2f\" % float(div)) #fracionada\n",
        "print(\"multiplicação: %d\" % (mult))\n",
        "\n",
        "#resto de uma divisão de um inteiro por um inteiro\n",
        "\n",
        "res = a % b #resto da divisão de a por b\n",
        "\n",
        "#resultado de elevar um valor do tipo inteiro a outro do tipo inteiro\n",
        "\n",
        "exp = a ** b\n",
        "\n",
        "#piso: parte inteira da divisão de valores inteiros\n",
        "\n",
        "pis = a // b\n",
        "\n",
        "print(\"Resto: %d\" % (res))\n",
        "print(\"Exponencial: %d\" % (exp))\n",
        "print(\"Piso: %d\" % (pis))\n",
        "\n",
        "#trabalhando print\n",
        "\n",
        "nome = \"Gustavo\"\n",
        "idade = 36\n",
        "altura = 1.71\n",
        "\n",
        "print(\"Meu nome é %s, tenho %d anos e meço %.2fm\" % (nome, idade, altura)) #análogo ao C\n",
        "\n",
        "#outra forma de se utilizar a função print\n",
        "\n",
        "aux_01 = 2\n",
        "aux_02 = 3\n",
        "\n",
        "print(\"O valor da primeira variável é {} enquanto o da segunda é {}\" .format(aux_01, aux_02))\n",
        "\n",
        "#operadores\n",
        "\n",
        "a = 5\n",
        "b = 2\n",
        "\n",
        "c = a < b\n",
        "d = a > b\n",
        "e = a == b\n",
        "\n",
        "print(\"Valor de c: \", c)\n",
        "print(\"Valor de d: \", d)\n",
        "print(\"Valor de e: \", e)\n",
        "print(a >= b)\n",
        "print(b <= b)\n",
        "\n",
        "a = 10\n",
        "b = 2\n",
        "\n",
        "a += b #a+b\n",
        "print(a)\n",
        "a -= b #a-b\n",
        "print(a)\n",
        "a /= b #a/b\n",
        "print(a)\n",
        "a *= b #a*b\n",
        "print(a)"
      ],
      "metadata": {
        "id": "zhsPuTPfGgNI",
        "colab": {
          "base_uri": "https://localhost:8080/"
        },
        "outputId": "21dd94cc-05c7-47a6-aa4c-4f30604b62ef"
      },
      "execution_count": null,
      "outputs": [
        {
          "output_type": "stream",
          "name": "stdout",
          "text": [
            "soma: 13\n",
            "subtração: 7\n",
            "divisão inteira: 3\n",
            "divisão fracionada: 3.33\n",
            "multiplicação: 30\n",
            "Resto: 1\n",
            "Exponencial: 1000\n",
            "Piso: 3\n",
            "Meu nome é Gustavo, tenho 36 anos e meço 1.71m\n",
            "O valor da primeira variável é 2 enquanto o da segunda é 3\n",
            "Valor de c:  False\n",
            "Valor de d:  True\n",
            "Valor de e:  False\n",
            "True\n",
            "True\n",
            "12\n",
            "10\n",
            "5.0\n",
            "10.0\n"
          ]
        }
      ]
    },
    {
      "cell_type": "code",
      "source": [
        "nome = input(\"Qual é o seu nome? \") #usuário entra com string, não há casting\n",
        "idade = int(input(\"Qual sua idade? \")) #entende entrada string como int\n",
        "altura = float(input(\"Qual a sua altura? \")) #entende entrada como float\n",
        "peso = float(input(\"Qual o seu peso? \"))\n",
        "\n",
        "print(\"Nome: %s\" % nome)\n",
        "print(\"Idade: %d\" % idade)\n",
        "\n",
        "imc = peso/(altura * altura)\n",
        "\n",
        "print(\"IMC = %.2f\" % imc)\n",
        "print(\"Muito abaixo do peso: \", imc < 17)\n",
        "print(\"Abaixo do peso normal: \", imc >= 17 and imc < 18.5)\n",
        "print(\"Peso normal: \", imc >= 18.5 and imc < 25)\n",
        "print(\"Acima do peso normal: \", imc >= 25 and imc < 30)\n",
        "print(\"Muito acima do peso: \", imc >= 30)\n"
      ],
      "metadata": {
        "colab": {
          "base_uri": "https://localhost:8080/"
        },
        "id": "X8DY7fsAnYin",
        "outputId": "aa0e6623-6374-4bf0-988b-c4e0dbdfee2d"
      },
      "execution_count": null,
      "outputs": [
        {
          "output_type": "stream",
          "name": "stdout",
          "text": [
            "Qual é o seu nome? gustavo\n",
            "Qual sua idade? 34\n",
            "Qual a sua altura? 1.80\n",
            "Qual o seu peso? 77\n",
            "Nome: gustavo\n",
            "Idade: 34\n",
            "IMC = 23.77\n",
            "Muito abaixo do peso:  False\n",
            "Abaixo do peso normal:  False\n",
            "Peso normal:  True\n",
            "Acima do peso normal:  False\n",
            "Muito acima do peso:  False\n"
          ]
        }
      ]
    },
    {
      "cell_type": "code",
      "source": [
        "#condicionais\n",
        "\n",
        "nota = float(input(\"Digite sua nota: \"))\n",
        "\n",
        "if nota < 60:\n",
        "  print(\"Reprovado!\")\n",
        "else:\n",
        "  print(\"Aprovado!\")\n",
        "\n",
        "if nota < 30:\n",
        "  print(\"Reprovado!\")\n",
        "elif nota <= 50:\n",
        "  print(\"Recuperação!\")\n",
        "else:\n",
        "  print(\"Aprovado!\")\n",
        "\n",
        "n1 = int(input(\"Digite o primeiro número: \"))\n",
        "n2 = int(input(\"Digite o segundo número: \"))\n",
        "\n",
        "if n1 > n2:\n",
        "  print(n1, \"maior que\", n2)\n",
        "elif n1 < n2:\n",
        "  print(\"%d maior que %d\" % (n2, n1)) #outra forma de print\n",
        "else:\n",
        "  print(\"Os números \", n1, \" e \", n2, \" são iguais!\") #outra forma de print\n"
      ],
      "metadata": {
        "colab": {
          "base_uri": "https://localhost:8080/"
        },
        "id": "xWh-X4Icrf3a",
        "outputId": "426fd6d8-1314-4d40-8415-4a8f7a564e24"
      },
      "execution_count": null,
      "outputs": [
        {
          "output_type": "stream",
          "name": "stdout",
          "text": [
            "Digite sua nota: 20\n",
            "Reprovado!\n",
            "Reprovado!\n",
            "Digite o primeiro número: 20\n",
            "Digite o segundo número: 20\n",
            "Os números  20  e  20  são iguais!\n"
          ]
        }
      ]
    },
    {
      "cell_type": "code",
      "source": [
        "#laços de repetição\n",
        "\n",
        "#número pré-definido de vezes: for\n",
        "#número indefinido de vezes, enquanto for verdadeira a condição: while\n",
        "\n",
        "cont = 1\n",
        "\n",
        "while cont <= 5:\n",
        "  print(cont)\n",
        "  cont += 1 #em C, seria cont++\n",
        "\n",
        "nota = -1\n",
        "while nota < 0 or nota > 10: #comando de repetição que só aceita se nota for valor válido\n",
        "  nota = int(input(\"Digite uma nota entre 0 e 10: \"))\n",
        "print(\"nota: %d\" % nota)"
      ],
      "metadata": {
        "colab": {
          "base_uri": "https://localhost:8080/"
        },
        "id": "KEVP7lRKtq88",
        "outputId": "90972659-c640-4c79-80ee-a70896f58a76"
      },
      "execution_count": null,
      "outputs": [
        {
          "output_type": "stream",
          "name": "stdout",
          "text": [
            "1\n",
            "2\n",
            "3\n",
            "4\n",
            "5\n",
            "Digite uma nota entre 0 e 10: 5\n",
            "nota: 5\n"
          ]
        }
      ]
    },
    {
      "cell_type": "code",
      "source": [
        "#comando for: quando se sabe quantas iterações serão necessárias para execução de um bloco de comandos\n",
        "\n",
        "#range(início[omitido: 0], limite: <, passo[omitido: 1])\n",
        "\n",
        "print(list(range(5)))\n",
        "print(list(range(1, 5)))\n",
        "print(list(range(2, 10, 3)))\n",
        "\n",
        "for i in range(5):\n",
        "  print(\"Oi, bem vindo ao curso de Python! %d\" % i)\n",
        "\n",
        "for i in range(0, 5):\n",
        "  print(i)\n",
        "\n",
        "for i in range(0, 10, 2):\n",
        "  print(i)\n",
        "\n",
        "total = 0\n",
        "for i in range (0, 5):\n",
        "  num = int(input(\"Digite um num: \"))\n",
        "  total += num\n",
        "\n",
        "print(\"Soma: %s\" % (total))\n",
        "print(\"Média: %s\" % (total/5))\n",
        "\n",
        "tab = int(input(\"Tabuada do número: \"))\n",
        "\n",
        "for i in range(11):\n",
        "  print(tab, \" x %d\" % (i),\" = \" , tab*(i))"
      ],
      "metadata": {
        "id": "vmtecLeg1_ZJ",
        "colab": {
          "base_uri": "https://localhost:8080/"
        },
        "outputId": "0ba1acd1-e9d7-4824-c6db-fd14ce48a09e"
      },
      "execution_count": null,
      "outputs": [
        {
          "output_type": "stream",
          "name": "stdout",
          "text": [
            "[0, 1, 2, 3, 4]\n",
            "[1, 2, 3, 4]\n",
            "[2, 5, 8]\n",
            "Oi, bem vindo ao curso de Python! 0\n",
            "Oi, bem vindo ao curso de Python! 1\n",
            "Oi, bem vindo ao curso de Python! 2\n",
            "Oi, bem vindo ao curso de Python! 3\n",
            "Oi, bem vindo ao curso de Python! 4\n",
            "0\n",
            "1\n",
            "2\n",
            "3\n",
            "4\n",
            "0\n",
            "2\n",
            "4\n",
            "6\n",
            "8\n",
            "Digite um num: 1\n",
            "Digite um num: 2\n",
            "Digite um num: 3\n",
            "Digite um num: 4\n",
            "Digite um num: 5\n",
            "Soma: 15\n",
            "Média: 3.0\n",
            "Tabuada do número: 5\n",
            "5  x 0  =  0\n",
            "5  x 1  =  5\n",
            "5  x 2  =  10\n",
            "5  x 3  =  15\n",
            "5  x 4  =  20\n",
            "5  x 5  =  25\n",
            "5  x 6  =  30\n",
            "5  x 7  =  35\n",
            "5  x 8  =  40\n",
            "5  x 9  =  45\n",
            "5  x 10  =  50\n"
          ]
        }
      ]
    },
    {
      "cell_type": "code",
      "source": [
        "#ESTRUTURAS DE DADOS EM PY\n",
        "\n",
        "lista = []\n",
        "print(lista)\n",
        "\n",
        "lista_num = [1, 2, 3]\n",
        "lista_nomes = [\"andré\", \"ângelo\", \"Robson\"]\n",
        "lista_mix = [37, \"Ângelo\", \"Robson\", 9, 0, \"Maria\", 2]\n",
        "\n",
        "print(lista_num)\n",
        "print(lista_nomes)\n",
        "print(lista_mix)\n",
        "\n",
        "for item in lista_num:\n",
        "  print(item)\n",
        "\n",
        "print(lista_nomes[0])\n",
        "print(lista_nomes[1])\n",
        "\n",
        "lista = [1, 2, 3, 3, 3, 4, 5, 6, 7]\n",
        "\n",
        "print(\"Tamanho da lista: %d\" % len(lista))\n",
        "\n",
        "lista.append(8)\n",
        "print(lista)\n",
        "\n",
        "print(\"Tamanho da lista: %d\" % len(lista))\n",
        "\n",
        "lista.pop()\n",
        "print(lista)\n",
        "\n",
        "lista.pop(0)\n",
        "print(lista)\n",
        "\n",
        "lista.remove(2)\n",
        "print(lista)\n",
        "\n",
        "lista.insert(0, 1) #insere na posição 0, o dado 1\n",
        "print(lista)\n",
        "\n",
        "print(lista.count(3))\n",
        "\n",
        "print(lista.index(1))\n",
        "\n",
        "lista.clear()\n",
        "\n",
        "print(lista)"
      ],
      "metadata": {
        "colab": {
          "base_uri": "https://localhost:8080/"
        },
        "id": "WkQpQ-yKeCPT",
        "outputId": "0358a9fc-d966-4c62-a7c6-5cbb9ff5fec2"
      },
      "execution_count": null,
      "outputs": [
        {
          "output_type": "stream",
          "name": "stdout",
          "text": [
            "[]\n",
            "[1, 2, 3]\n",
            "['andré', 'ângelo', 'Robson']\n",
            "[37, 'Ângelo', 'Robson', 9, 0, 'Maria', 2]\n",
            "1\n",
            "2\n",
            "3\n",
            "andré\n",
            "ângelo\n",
            "Tamanho da lista: 9\n",
            "[1, 2, 3, 3, 3, 4, 5, 6, 7, 8]\n",
            "Tamanho da lista: 10\n",
            "[1, 2, 3, 3, 3, 4, 5, 6, 7]\n",
            "[2, 3, 3, 3, 4, 5, 6, 7]\n",
            "[3, 3, 3, 4, 5, 6, 7]\n",
            "[1, 3, 3, 3, 4, 5, 6, 7]\n",
            "3\n",
            "0\n",
            "[]\n"
          ]
        }
      ]
    },
    {
      "cell_type": "code",
      "source": [
        "lista = [1, 2, 3, 4, 5]\n",
        "\n",
        "print(lista[::-1]) #imprime com o passo -1, ou seja, de forma invertida\n",
        "print(lista[0:2]) #imprime começando do índice 0, sendo 2 o limite(<), ou seja, imprime índices 0 e 1\n",
        "print(lista[-1]) #imprime o último item da lista\n",
        "\n",
        "lista.sort()\n",
        "print(lista)\n",
        "lista[0] = 2\n",
        "print(lista)"
      ],
      "metadata": {
        "colab": {
          "base_uri": "https://localhost:8080/"
        },
        "id": "MsGx3oI1iRyg",
        "outputId": "a3dbccff-e66c-479f-8269-bf5cb7fbf1e6"
      },
      "execution_count": null,
      "outputs": [
        {
          "output_type": "stream",
          "name": "stdout",
          "text": [
            "[5, 4, 3, 2, 1]\n",
            "[1, 2]\n",
            "5\n",
            "[1, 2, 3, 4, 5]\n",
            "[2, 2, 3, 4, 5]\n"
          ]
        }
      ]
    },
    {
      "cell_type": "code",
      "source": [
        "tupla_num = (1, 2, 3, 4)\n",
        "print(tupla_num)\n",
        "\n",
        "print(tupla_num.count(1))\n",
        "print(tupla_num.index(2))\n",
        "print(len(tupla_num))\n",
        "\n",
        "#CONVERTENDO TUPLA EM LISTA para usar as funções append e pop\n",
        "\n",
        "tupla_conv = list(tupla_num)\n",
        "\n",
        "#adicionando um elemento ao final da tupla convertida\n",
        "tupla_conv.append(5)\n",
        "print(\"Elemento 5 adicionado: %s\" % (tupla_conv))\n",
        "\n",
        "#removendo o elemento ao final da tupla convertida\n",
        "\n",
        "tupla_conv.pop()\n",
        "print(\"Elemento 5 removido: %s\" % (tupla_conv))"
      ],
      "metadata": {
        "colab": {
          "base_uri": "https://localhost:8080/"
        },
        "id": "6OGLNnuqvFCU",
        "outputId": "68fe4031-ae61-4157-ec8c-daebe4a65a23"
      },
      "execution_count": null,
      "outputs": [
        {
          "output_type": "stream",
          "name": "stdout",
          "text": [
            "(1, 2, 3, 4)\n",
            "1\n",
            "1\n",
            "4\n",
            "Elemento 5 adicionado: [1, 2, 3, 4, 5]\n",
            "Elemento 5 removido: [1, 2, 3, 4]\n"
          ]
        }
      ]
    },
    {
      "cell_type": "code",
      "source": [
        "#conjuntos: coleção de itens únicos que não seguem ordem específica, não indexado.\n",
        "#sem elementos repetidos\n",
        "#Estrutura mutável, em que o item é mais importante que o número de vezes que ele ocorre\n",
        "\n",
        "frutas = [\"maçã\", \"laranja\", \"maçã\", \"pera\", \"laranja\", \"banana\"] #define uma lista de frutas, incluindo repetições\n",
        "\n",
        "frutas_n_duplicados = set(frutas) #aplicação da função conjuntos na lista, para retirar só os elementos únicos\n",
        "#ÚTIL PARA REMOVER OS ITENS DUPLICADOS\n",
        "\n",
        "print(frutas_n_duplicados)"
      ],
      "metadata": {
        "colab": {
          "base_uri": "https://localhost:8080/"
        },
        "id": "VD3wBz7ExLDs",
        "outputId": "81ce642b-da2f-4c1a-e4c6-735e17c1037d"
      },
      "execution_count": null,
      "outputs": [
        {
          "output_type": "stream",
          "name": "stdout",
          "text": [
            "{'banana', 'pera', 'laranja', 'maçã'}\n"
          ]
        }
      ]
    },
    {
      "cell_type": "code",
      "source": [
        "#DICIONÁRIOS\n",
        "\n",
        "#os elementos são indedaxos por uma chave\n",
        "#funcionam sob a estrutura chave:valor\n",
        "\n",
        "dic = {} #chave e valor\n",
        "dic = dict()\n",
        "\n",
        "print(dic)\n",
        "\n",
        "dic_frutas = {\"maçã\" : 5.50,\n",
        "              \"banana\" : 2.50,\n",
        "              \"pera\" : 6.50,\n",
        "              \"uva\" : 7.20}\n",
        "\n",
        "print(dic_frutas)\n",
        "\n",
        "#inserção de um novo item (chave) e seu valor ao final do dicionário\n",
        "dic_frutas[\"Manga\"] = 6.20\n",
        "\n",
        "print(dic_frutas)\n",
        "\n",
        "#alteração do preço da banana, ou seja, alteração do valor de uma dada chave do dicionário\n",
        "\n",
        "dic_frutas[\"banana\"] = 1.5\n",
        "print(dic_frutas)\n",
        "\n",
        "#consulta do preço de uma fruta, ou seja, consultar o valor de uma dada chave do dicionário\n",
        "\n",
        "print(\"Uva: %s\" % dic_frutas[\"uva\"])\n",
        "print(\"Pera: %s\" % dic_frutas[\"pera\"]) #a string que representa a chave é case sensitive: não deu certo com dic_frutas[\"Uva\"]"
      ],
      "metadata": {
        "colab": {
          "base_uri": "https://localhost:8080/"
        },
        "id": "FpNSpLyVykuz",
        "outputId": "c481b245-daa5-4e73-e657-14fdf0434b15"
      },
      "execution_count": null,
      "outputs": [
        {
          "output_type": "stream",
          "name": "stdout",
          "text": [
            "{}\n",
            "{'maçã': 5.5, 'banana': 2.5, 'pera': 6.5, 'uva': 7.2}\n",
            "{'maçã': 5.5, 'banana': 2.5, 'pera': 6.5, 'uva': 7.2, 'Manga': 6.2}\n",
            "{'maçã': 5.5, 'banana': 1.5, 'pera': 6.5, 'uva': 7.2, 'Manga': 6.2}\n",
            "Uva: 7.2\n",
            "Pera: 6.5\n"
          ]
        }
      ]
    },
    {
      "cell_type": "code",
      "source": [
        "#exemplo de construção de um dicionário de forma incremental\n",
        "\n",
        "#criação de um dicionário com o desempenho de atletas\n",
        "\n",
        "atletas = {} #dics são criados usando chaves, mas a inserção posterior de valores é feita por colchetes\n",
        "\n",
        "#atribuição de um nome fictício a um dicionário\n",
        "\n",
        "nome_atleta = \"início\"\n",
        "\n",
        "#incluindo o nome dos atletas no dicionário\n",
        "\n",
        "while nome_atleta != \"\":\n",
        "  nome_atleta = input(\"Atleta: \")\n",
        "  if nome_atleta != \"\":\n",
        "    saltos = [] #lista para armazenar a distância dos saltos\n",
        "    for i in range(0, 2):\n",
        "      saltos.append(float(input(\"%sº Salto: \" % (i+1))))\n",
        "\n",
        "      # agora adiciona-se uma lista de saltos ao dicionário\n",
        "\n",
        "      atletas[nome_atleta] = saltos #a cada atleta do dicionário associa-se uma lista de saltos.\n",
        "      #para cada atleta, teremos duas informações (salto 1 e 2) salvas em uma lista.\n",
        "\n",
        "#percorrer um dicionário retornando seus itens\n",
        "\n",
        "print(\"\\nResultado Final:\")\n",
        "for nome_atleta, saltos in atletas.items():\n",
        "  print(\"Atleta: %s\" % nome_atleta)\n",
        "  print(\"Saltos: \", str(saltos))\n",
        "  print(\"Média dos saltos: %.2f m\" % (sum(saltos)/2))\n",
        "\n",
        "# para percorrer o dicionário, listando as informações\n",
        "\n",
        "dic_frutas = {\"maçã\" : 5.50,\n",
        "              \"banana\" : 2.50,\n",
        "              \"pera\" : 6.50}\n",
        "\n",
        "for fruta, valor in dic_frutas.items():\n",
        "  print(\"Fruta: %s\" % fruta)\n",
        "  print(\"Valor: %.2f\" % valor)\n"
      ],
      "metadata": {
        "colab": {
          "base_uri": "https://localhost:8080/"
        },
        "id": "q83IKUq42RHh",
        "outputId": "2915424c-a5d7-4937-df3f-ae9873b2cab3"
      },
      "execution_count": null,
      "outputs": [
        {
          "output_type": "stream",
          "name": "stdout",
          "text": [
            "Atleta: \n",
            "\n",
            "Resultado Final:\n",
            "Fruta: maçã\n",
            "Valor: 5.50\n",
            "Fruta: banana\n",
            "Valor: 2.50\n",
            "Fruta: pera\n",
            "Valor: 6.50\n"
          ]
        }
      ]
    },
    {
      "cell_type": "code",
      "source": [
        "#FUNÇÕES\n",
        "\n",
        "def soma(x, y, z):\n",
        "  return x+y+z\n",
        "\n",
        "s = soma(10, 20, 40)\n",
        "print(s)\n",
        "\n",
        "def par_impar(n):\n",
        "  if n % 2 == 0:\n",
        "    return True\n",
        "  else:\n",
        "    return False\n",
        "\n",
        "print(par_impar(10))\n",
        "print(par_impar(15))\n",
        "\n",
        "def imc(nome, idade, altura, peso):\n",
        "  print(\"Nome: %s\" % nome)\n",
        "  print(\"Idade: %d\" % idade)\n",
        "\n",
        "  imc = peso / (altura*altura)\n",
        "\n",
        "  print(\"IMC: %.2f\" % imc)\n",
        "\n",
        "  if imc < 17:\n",
        "    print(\"Muito abaixo do peso\")\n",
        "  elif imc >= 17 and imc < 18.5:\n",
        "    print(\"Abaixo do peso normal\")\n",
        "  elif imc >= 18.5 and imc < 25:\n",
        "    print(\"Peso normal\")\n",
        "  elif imc >= 25 and imc < 30:\n",
        "    print(\"Acima do peso normal\")\n",
        "  else:\n",
        "    print(\"Muito acima do peso\")\n",
        "\n",
        "imc(\"Robson\", 28, 1.85, 98)"
      ],
      "metadata": {
        "colab": {
          "base_uri": "https://localhost:8080/"
        },
        "id": "QH0gLi7x7FTQ",
        "outputId": "acfb9b93-1b9e-4fc9-ec3a-67c1a2a0165a"
      },
      "execution_count": null,
      "outputs": [
        {
          "output_type": "stream",
          "name": "stdout",
          "text": [
            "70\n",
            "True\n",
            "False\n",
            "Nome: Robson\n",
            "Idade: 28\n",
            "IMC: 28.63\n",
            "Acima do peso normal\n"
          ]
        }
      ]
    },
    {
      "cell_type": "code",
      "source": [
        "#exemplo de leitura de dados em arquivos\n",
        "\n",
        "doc = open(\"doc.txt\", \"r\")\n",
        "for linha in doc.readlines():\n",
        "  print(linha)\n",
        "doc.close\n",
        "print(\"\\n\")\n",
        "#USANDO A FUNÇÃO SPLIT PARA DECOMPOR A STRING EM UMA LISTA\n",
        "doc = open(\"doc.txt\", \"r\")\n",
        "\n",
        "#decomposição da string por vírgulas para gerar componentes e por consequência um arquivo csv\n",
        "\n",
        "for linha in doc:\n",
        "  valores = linha.split(\",\")\n",
        "  print(valores[0], valores[1], valores[2], valores[3])\n",
        "print(\"\\n\")\n",
        "\n",
        "doc = open(\"doc.txt\", \"a\") # a, de append, para acrescentar ao final do arquivo\n",
        "\n",
        "#adição das novas linhas\n",
        "\n",
        "doc.write(\"\\nIris, \")\n",
        "doc.write(\"01414, \")\n",
        "doc.write(\"8.5, \")\n",
        "doc.write(\"7.5 \")\n",
        "doc.write(\"\\n\")\n",
        "doc.close\n",
        "\n",
        "#leitura do arquivo com a nova linha\n",
        "\n",
        "doc = open(\"doc.txt\", \"r\")\n",
        "for linha in doc.readlines():\n",
        "  print(linha)\n",
        "doc.close"
      ],
      "metadata": {
        "colab": {
          "base_uri": "https://localhost:8080/"
        },
        "id": "Rgw3f1AM-5Kk",
        "outputId": "a23aa8c5-8842-44b4-dde9-b9d7a3bb5faa"
      },
      "execution_count": null,
      "outputs": [
        {
          "output_type": "stream",
          "name": "stdout",
          "text": [
            "Nome,Matrícula,TB1,TB2\n",
            "\n",
            "Robson,01554,7.0,8.0\n",
            "\n",
            "André,01551,8.5,7.2\n",
            "\n",
            "Maria,01441,7.0,8.6\n",
            "\n",
            "Ângelo,01335,9.2,5.0\n",
            "\n",
            "Luíza,01245,7.0,9.0\n",
            "\n",
            "Joana,01412,8.0,7.5\n",
            "\n",
            "\n",
            "Nome Matrícula TB1 TB2\n",
            "\n",
            "Robson 01554 7.0 8.0\n",
            "\n",
            "André 01551 8.5 7.2\n",
            "\n",
            "Maria 01441 7.0 8.6\n",
            "\n",
            "Ângelo 01335 9.2 5.0\n",
            "\n",
            "Luíza 01245 7.0 9.0\n",
            "\n",
            "Joana 01412 8.0 7.5\n",
            "\n",
            "\n",
            "Nome,Matrícula,TB1,TB2\n",
            "\n",
            "Robson,01554,7.0,8.0\n",
            "\n",
            "André,01551,8.5,7.2\n",
            "\n",
            "Maria,01441,7.0,8.6\n",
            "\n",
            "Ângelo,01335,9.2,5.0\n",
            "\n",
            "Luíza,01245,7.0,9.0\n",
            "\n",
            "Joana,01412,8.0,7.5\n",
            "\n",
            "Iris, 01414, 8.5, 7.5 \n",
            "\n"
          ]
        },
        {
          "output_type": "execute_result",
          "data": {
            "text/plain": [
              "<function TextIOWrapper.close()>"
            ]
          },
          "metadata": {},
          "execution_count": 18
        }
      ]
    },
    {
      "cell_type": "code",
      "source": [
        "#PYTHON PARA CIÊNCIA DE DADOS:\n",
        "# Manipulação de dados tabulares com PANDAS\n",
        "\n",
        "import pandas as pd\n",
        "\n",
        "#criação de um dataframe básico\n",
        "\n",
        "cidades = pd.DataFrame(\n",
        "    [\n",
        "        [\"Paraná\", \"Londrina\", 575377, 1356.00],\n",
        "        [\"São Paulo\", \"São Carlos\", 254484, 1508.00],\n",
        "        [\"Santa Catarina\", \"Florianópolis\", 508826, 1798.00],\n",
        "        [\"Paraná\", \"Curitiba\", 1963726, 2293.00],\n",
        "        [\"São Paulo\", \"Campinas\", 1223237, 1710.00],\n",
        "    ], columns=[\"Estado\", \"Cidade\", \"Habitantes\", \"Salário médio\"])\n",
        "\n",
        "cidades\n",
        "\n",
        "#criação de um data frame a partir da leitura de um arquivo csv\n",
        "\n",
        "df = pd.read_csv(\"/content/drive/MyDrive/Colab Notebooks/winequality-red.csv\", sep= ';', header = 0)\n",
        "\n",
        "df.head(2) #retorna as n primeiras linhas de um DF\n",
        "\n",
        "#Funcionalidades disponíveis na lib Pandas; funções básicas, tipos de dados, comandos básicos de consulta, ordenação, etc.\n",
        "\n",
        "#Funções básicas:\n",
        "\n",
        "#head, tail, shape, info, columns, count, describe\n",
        "\n",
        "cidades.head(2) #retorna um novo dataframe com as n primeiras amostras\n",
        "\n",
        "cidades.tail(2) #retorna um novo DF com as n últimas amostras\n",
        "\n",
        "cidades.shape #retorna uma tupla com o número de linhas e colunas\n",
        "\n",
        "cidades.info() #retorna vazio, mas imprime na tela as infors gerais\n",
        "\n",
        "df.info()\n",
        "cidades.columns #retorna uma lista com o nome de todas as colunas\n",
        "cidades[\"Salário médio\"].describe() #retorna um objeto DataFrame com as medidas estatísticas para cada coluna\n",
        "\n",
        "cidades.dtypes #imprime os tipos de dados do DF identificados pela biblioteca\n",
        "\n",
        "# ou cidades.info()\n",
        "\n",
        "#para alterar o tipo de dado: exemplo abaixo:\n",
        "\n",
        "cidades[\"Habitantes\"] = cidades[\"Habitantes\"].astype(\"float64\")\n",
        "\n",
        "cidades.dtypes\n",
        "\n",
        "#Exemplo de tratamento de datas\n",
        "\n",
        "#adicionando uma coluna de datas\n",
        "\n",
        "cidades[\"Data\"] = [\"3-8-2021\", \"3-9-2021\", \"3-10-2021\", \"3-11-2021\", \"3-12-2021\"] #criação da coluna\n",
        "\n",
        "cidades.dtypes\n",
        "\n",
        "cidades[\"Data\"] = pd.to_datetime(cidades[\"Data\"], format = \"%d-%m-%Y\") #estabelecendo o formato de LEITURA da data pela lib. A lib lê o dado como data e os coloca em um padrão YYYY-MM-DD\n",
        "#abaixo explica como alterar esse formato padrão\n",
        "\n",
        "cidades\n",
        "\n",
        "#alterando o formato de EXIBIÇÃO da data\n",
        "\n",
        "cidades[\"Data\"] = cidades[\"Data\"].dt.strftime(\"%d-%m-%Y\")\n",
        "\n",
        "cidades\n",
        "\n",
        "#renomeando colunas do DF no Pandas por meio da função rename\n",
        "\n",
        "cidades.rename(columns={\"Habitantes\":\"N Habitantes\", \"Data\": \"Data - Censo\"}, inplace=True)\n",
        "\n",
        "cidades\n",
        "\n",
        "#selecionando linhas e colunas\n",
        "\n",
        "cidadesHab = cidades[[\"N Habitantes\", \"Salário médio\"]] #seleção de colunas pelo nome\n",
        "\n",
        "cidadesHab\n",
        "\n",
        "# .loc[] permite selecionar linhas diretamente pelo rótulo\n",
        "\n",
        "cidades.loc[[1,3,4]] #seleção das linhas 1 e 2\n",
        "#nesse caso, os rótulos são números inteiros, mas poderia ser outra informação.\n",
        "\n",
        "# .iloc[] só permite acessar o dado a partir da sua posição, ignorando rótulos.\n",
        "\n",
        "cidades.iloc[1:3] #seleciona linhas de 1 a 3(exclusive), ou seja, não considerando a terceira linha, indo até a segunda.\n",
        "\n",
        "#agora selecionando linhas e colunas: ordem dos parâmetros: linha inicial:linha final(exclusive), coluna inicial:coluna final (exclusive)\n",
        "\n",
        "cidades.iloc[:, 0:2] #seleciona todas as linhas e as duas primeiras colunas. Colunas 0 a 2 exclusive, ou seja, 0 e 1.\n",
        "\n",
        "cidades.iloc[1:3, :3] #seleciona as linhas 1 e 2 e as três primeiras colunas.\n",
        "\n",
        "cidades.iloc[:,[1, 3, 0, 2]] #seleciona todas as linhas das colunas 1, 3, 0 e 2. Aqui não se usou os dois pontos para inícial e final, e sim a posição das colunas diretamente.\n",
        "\n",
        "#adicionando colunas em um DF\n",
        "\n",
        "#para tanto, deve-se usar a função df.insert(posição_coluna, \"Nome_coluna\", [Valores])\n",
        "\n",
        "cidades.insert(2, \"Sigla\", [\"PR\", \"SP\", \"SC\", \"PR\", \"SP\"])\n",
        "#adiciona como coluna 2, o atributo Sigla, com os valores indicados\n",
        "\n",
        "cidades.insert(2, \"Sigla Repetida\", cidades[\"Sigla\"]) #cria uma nova coluna no índice 2 cujos valores são\n",
        "#oriundos da coluna Sigla do DF.\n",
        "\n",
        "cidades\n",
        "\n",
        "#Para exclusão das colunas repetidas, pode se usar as funções pop() ou drop()\n",
        "\n",
        "cidades.pop(\"Sigla Repetida\")\n",
        "\n",
        "# ou cidades = cidades.drop([\"Sigla Repetida\"], axis = 1)\n",
        "\n",
        "cidades\n",
        "\n",
        "#PARA CONSULTAS AO DF: query()\n",
        "\n",
        "#salários médios acima de R$ 1400\n",
        "\n",
        "cidades.query('`Salário médio` > 1400')\n",
        "cidades.query('Estado == \"São Paulo\"')\n",
        "cidades.query('`N Habitantes` > 500000 and `N Habitantes` < 1300000')\n",
        "\n",
        "#ordenação por meio da função sort_values(): alfabético ou numérico\n",
        "\n",
        "cidades.sort_values(by='Cidade', inplace=True)\n",
        "\n",
        "cidades\n",
        "\n",
        "cidades.sort_values(by='Salário médio', inplace = True)\n",
        "cidades\n",
        "\n",
        "cidades.sort_values(by='Estado', inplace = True)\n",
        "cidades\n",
        "\n",
        "#Combinando DFs: a biblioteca Pandas trabalha de forma fácil com SQL-joins em DataFrames.\n",
        "\n",
        "#os dois DFs abaixo podem ser posteriormente combinados pois tem pelo menos uma coluna em comum, a cidade.\n",
        "\n",
        "cidades_salarios = pd.DataFrame(\n",
        "    [\n",
        "      ['Paraná', 'Londrina', 1356.00],\n",
        "      ['São Paulo', 'São Carlos', 1508.00],\n",
        "      ['Santa Catarina', 'Florianópolis', 1798.00],\n",
        "      ['Paraná', 'Curitiba', 2293.00],\n",
        "      ['São Paulo', 'Campinas', 1710.00]\n",
        "    ], columns=['Estado', 'Cidade', 'Salário médio'])\n",
        "\n",
        "cidades_salarios\n",
        "\n",
        "cidades_pop = pd.DataFrame(\n",
        "    [\n",
        "      ['Londrina',575377],\n",
        "      ['São Carlos', 254484],\n",
        "      ['Florianópolis', 508826],\n",
        "      ['Curitiba', 1963726],\n",
        "      ['Campinas', 1223237]\n",
        "    ], columns=['Cidade', 'Habitantes'])\n",
        "\n",
        "cidades_pop\n",
        "\n",
        "pd.merge(left=cidades_salarios, right=cidades_pop, on=\"Cidade\")\n",
        "pd.merge(left=cidades_salarios, right=cidades_pop, on=\"Cidade\", how=\"outer\") #isso faz com que a junção seja realizada não descartando-se os registros que não tem interseção nos conjuntos.\n",
        "\n",
        "#juntando dois DFs\n",
        "\n",
        "cidades_df1 = pd.DataFrame(\n",
        "    [\n",
        "        ['Londrina', 575377],\n",
        "        ['São Carlos', 254484],\n",
        "        ['Florianópolis', 508826],\n",
        "    ], columns=['Cidade', 'Habitantes'])\n",
        "\n",
        "cidades_df1\n",
        "\n",
        "cidades_df2 = pd.DataFrame(\n",
        "    [\n",
        "        ['Curitiba', 1963726],\n",
        "        ['Campinas', 1223237],\n",
        "    ], columns=['Cidade', 'Habitantes'])\n",
        "\n",
        "cidades_df2\n",
        "\n",
        "pd.concat([cidades_df1, cidades_df2], ignore_index=True)\n",
        "\n",
        "#SALVANDO UM DATAFRAME\n",
        "#A Pandas permite salvar um data frame em vários formatos: csv, excel, json, HTML e HDF5 ou em um banco de dados.\n",
        "\n",
        "cidades.to_csv(\"my_df.csv\")\n",
        "cidades.to_html(\"my_df.html\")\n",
        "cidades.to_json(\"my_df.json\")"
      ],
      "metadata": {
        "colab": {
          "base_uri": "https://localhost:8080/"
        },
        "id": "digWjdzEE6q8",
        "outputId": "2b4e3286-3f61-43fb-c1df-90011f89434c"
      },
      "execution_count": null,
      "outputs": [
        {
          "output_type": "stream",
          "name": "stdout",
          "text": [
            "<class 'pandas.core.frame.DataFrame'>\n",
            "RangeIndex: 5 entries, 0 to 4\n",
            "Data columns (total 4 columns):\n",
            " #   Column         Non-Null Count  Dtype  \n",
            "---  ------         --------------  -----  \n",
            " 0   Estado         5 non-null      object \n",
            " 1   Cidade         5 non-null      object \n",
            " 2   Habitantes     5 non-null      int64  \n",
            " 3   Salário médio  5 non-null      float64\n",
            "dtypes: float64(1), int64(1), object(2)\n",
            "memory usage: 288.0+ bytes\n",
            "<class 'pandas.core.frame.DataFrame'>\n",
            "RangeIndex: 1599 entries, 0 to 1598\n",
            "Data columns (total 12 columns):\n",
            " #   Column                Non-Null Count  Dtype  \n",
            "---  ------                --------------  -----  \n",
            " 0   fixed acidity         1599 non-null   float64\n",
            " 1   volatile acidity      1599 non-null   float64\n",
            " 2   citric acid           1599 non-null   float64\n",
            " 3   residual sugar        1599 non-null   float64\n",
            " 4   chlorides             1599 non-null   float64\n",
            " 5   free sulfur dioxide   1599 non-null   float64\n",
            " 6   total sulfur dioxide  1599 non-null   float64\n",
            " 7   density               1599 non-null   float64\n",
            " 8   pH                    1599 non-null   float64\n",
            " 9   sulphates             1599 non-null   float64\n",
            " 10  alcohol               1599 non-null   float64\n",
            " 11  quality               1599 non-null   int64  \n",
            "dtypes: float64(11), int64(1)\n",
            "memory usage: 150.0 KB\n"
          ]
        }
      ]
    },
    {
      "cell_type": "code",
      "source": [
        "#Ciência de dados: Fundamentos e Aplicações\n",
        "#Carvalho, Menezes e Bonidia\n",
        "#Capítulo 6 - Visualização para exploração de dados\n",
        "#código apêndice\n",
        "\n",
        "import numpy as np\n",
        "import pandas as pd\n",
        "import seaborn as sns\n",
        "import matplotlib.pyplot as plt\n",
        "from wordcloud import WordCloud\n",
        "import plotly\n",
        "import plotly.graph_objects as go\n",
        "\n",
        "# Para visualização dos gráficos com o Plotly no ambiente de notebook\n",
        "# Jupyter, retire o comentário da linha abaixo.\n",
        "\n",
        "plotly.offline.init_notebook_mode(connected=True)\n",
        "\n",
        "df_brasil = pd.read_csv(\"/content/drive/MyDrive/Colab Notebooks/BRAZIL_CITIES.csv\", sep=\";\", decimal=\",\")\n",
        "\n",
        "columns = ['CITY','STATE','CAPITAL','IBGE_RES_POP', 'AREA',\n",
        "           'RURAL_URBAN' ,'IDHM', 'LONG', 'LAT', 'ALT',\n",
        "           'ESTIMATED_POP', 'GDP', 'TAXES', 'GDP_CAPITA',\n",
        "           'COMP_TOT', 'MUN_EXPENDIT', 'GVA_AGROPEC',\n",
        "           'Wheeled_tractor','IBGE_PLANTED_AREA']\n",
        "\n",
        "df_brasil = df_brasil[columns]\n",
        "\n",
        "df_brasil.CAPITAL = df_brasil.CAPITAL.replace(0, 'NÃO')\n",
        "df_brasil.CAPITAL = df_brasil.CAPITAL.replace(1, 'SIM')\n",
        "df_brasil.MUN_EXPENDIT = df_brasil.MUN_EXPENDIT.replace(np.nan, 0)\n",
        "\n",
        "df_brasil.dropna(how ='any', inplace = True)\n",
        "\n",
        "df_brasil.rename(columns={'IBGE_RES_POP': 'POPULATION_2010',\n",
        "                          'ESTIMATED_POP': 'POPULATION_2018',\n",
        "                          'Wheeled_tractor': 'WHEELED_TRACTOR',\n",
        "                          'IBGE_PLANTED_AREA': 'PLANTED_AREA'},\n",
        "                            inplace=True)\n",
        "\n",
        "df_brasil['AREA'] = df_brasil['AREA'].apply(lambda n: float(n.replace(',','')))\n",
        "\n",
        "df_brasil['IDHM'] = df_brasil['IDHM'].astype(float)\n",
        "\n",
        "df_brasil['GDP'] = df_brasil['GDP'].astype(float)\n",
        "\n",
        "df_brasil['GDP_CAPITA'] = df_brasil['GDP_CAPITA'].astype(float)\n",
        "\n",
        "df_brasil['TAXES'] = df_brasil['TAXES'].astype(float)\n",
        "\n",
        "df_brasil['LONG'] = df_brasil['LONG'].astype(float)\n",
        "\n",
        "df_brasil['LAT'] = df_brasil['LAT'].astype(float)\n",
        "\n",
        "df_brasil['PLANTED_AREA'] = df_brasil['PLANTED_AREA'].astype(float)\n",
        "\n",
        "df_brasil['GVA_AGROPEC'] = df_brasil['GVA_AGROPEC'].astype(float)\n",
        "\n",
        "NORTE = ['AC', 'AM', 'AP', 'PA', 'RO', 'RR', 'TO']\n",
        "NORDESTE = ['AL', 'BA', 'CE', 'MA', 'PB', 'PE', 'PI', 'RN', 'SE']\n",
        "CENTROOESTE = ['DF', 'GO', 'MT', 'MS']\n",
        "SUDESTE = ['ES', 'MG', 'SP', 'RJ']\n",
        "SUL = ['PR', 'SC', 'RS']\n",
        "\n",
        "\n",
        "def conversion_reg(n):\n",
        "  if n in NORTE:\n",
        "    return 'NORTE'\n",
        "  elif n in NORDESTE:\n",
        "    return 'NORDESTE'\n",
        "  elif n in CENTROOESTE:\n",
        "    return 'CENTROOESTE'\n",
        "  elif n in SUDESTE:\n",
        "    return 'SUDESTE'\n",
        "  elif n in SUL:\n",
        "    return 'SUL'\n",
        "  else:\n",
        "    return 'ERROR'\n",
        "\n",
        "df_brasil['REGION'] = df_brasil['STATE'].apply(conversion_reg)\n",
        "\n",
        "#análise univariada\n",
        "\n",
        "# Agrupar por estado ('STATE') sem calcular a média diretamente\n",
        "grouped = df_brasil.groupby(by=['STATE'])\n",
        "\n",
        "# Calcular a média apenas para a coluna 'GDP_CAPITA'\n",
        "mean_gdp_capita = grouped['GDP_CAPITA'].mean()\n",
        "\n",
        "# Plotar os dados resultantes\n",
        "ax = mean_gdp_capita.plot.bar(figsize=(10, 5))\n",
        "\n",
        "# Configurar rótulos dos eixos\n",
        "_ = ax.set(xlabel='Estados', ylabel='Produto interno Bruto (PIB) per capita')\n",
        "\n",
        "# Mostrar o gráfico\n",
        "plt.show()\n",
        "\n"
      ],
      "metadata": {
        "colab": {
          "base_uri": "https://localhost:8080/",
          "height": 474
        },
        "id": "LHHMO0MrFC5R",
        "outputId": "b4694e7a-6cc7-4ad9-c76d-5524f8846e95"
      },
      "execution_count": 15,
      "outputs": [
        {
          "output_type": "display_data",
          "data": {
            "text/html": [
              "        <script type=\"text/javascript\">\n",
              "        window.PlotlyConfig = {MathJaxConfig: 'local'};\n",
              "        if (window.MathJax && window.MathJax.Hub && window.MathJax.Hub.Config) {window.MathJax.Hub.Config({SVG: {font: \"STIX-Web\"}});}\n",
              "        if (typeof require !== 'undefined') {\n",
              "        require.undef(\"plotly\");\n",
              "        requirejs.config({\n",
              "            paths: {\n",
              "                'plotly': ['https://cdn.plot.ly/plotly-2.24.1.min']\n",
              "            }\n",
              "        });\n",
              "        require(['plotly'], function(Plotly) {\n",
              "            window._Plotly = Plotly;\n",
              "        });\n",
              "        }\n",
              "        </script>\n",
              "        "
            ]
          },
          "metadata": {}
        },
        {
          "output_type": "display_data",
          "data": {
            "text/plain": [
              "<Figure size 1000x500 with 1 Axes>"
            ],
            "image/png": "[encoded data removed]"
          },
          "metadata": {}
        }
      ]
    }
  ]
}