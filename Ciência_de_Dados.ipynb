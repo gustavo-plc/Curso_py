{
  "nbformat": 4,
  "nbformat_minor": 0,
  "metadata": {
    "colab": {
      "provenance": [],
      "authorship_tag": "ABX9TyM5kEFCwHsxX/Ymfpn1zmsO",
      "include_colab_link": true
    },
    "kernelspec": {
      "name": "python3",
      "display_name": "Python 3"
    },
    "language_info": {
      "name": "python"
    }
  },
  "cells": [
    {
      "cell_type": "markdown",
      "metadata": {
        "id": "view-in-github",
        "colab_type": "text"
      },
      "source": [
        "<a href=\"https://colab.research.google.com/github/gustavo-plc/Curso_py/blob/main/Ci%C3%AAncia_de_Dados.ipynb\" target=\"_parent\"><img src=\"https://colab.research.google.com/assets/colab-badge.svg\" alt=\"Open In Colab\"/></a>"
      ]
    },
    {
      "cell_type": "code",
      "execution_count": 2,
      "metadata": {
        "colab": {
          "base_uri": "https://localhost:8080/"
        },
        "id": "9OG3gi4XDQES",
        "outputId": "1c0e5457-c806-4d00-d47f-06cb4a4ce574"
      },
      "outputs": [
        {
          "output_type": "stream",
          "name": "stdout",
          "text": [
            "Primeiro código!\n"
          ]
        }
      ],
      "source": [
        "print('Primeiro código!')"
      ]
    },
    {
      "cell_type": "code",
      "source": [
        "valor_int = 3 #tipo inteiro\n",
        "valor_float = 1.5 #tipo ponto flutuante\n",
        "string = \"Olá mundo!\" #tipo string\n",
        "var_bool = True #tipo booleano\n",
        "var_complex = 3+4j\n",
        "\n",
        "print(type(valor_int))\n",
        "print(type(valor_float))\n",
        "print(type(string))\n",
        "print(type(var_bool))\n",
        "print(type(var_complex))"
      ],
      "metadata": {
        "colab": {
          "base_uri": "https://localhost:8080/"
        },
        "id": "gIuyaObnEBHL",
        "outputId": "aab001b3-72fe-452a-95f5-73cbedf2b4b8"
      },
      "execution_count": 5,
      "outputs": [
        {
          "output_type": "stream",
          "name": "stdout",
          "text": [
            "<class 'int'>\n",
            "<class 'float'>\n",
            "<class 'str'>\n",
            "<class 'bool'>\n",
            "<class 'complex'>\n"
          ]
        }
      ]
    },
    {
      "cell_type": "code",
      "source": [
        "valor_int = 15\n",
        "valor_float = 1.5\n",
        "soma = valor_int + valor_float\n",
        "print(soma)\n",
        "print(type(soma))"
      ],
      "metadata": {
        "colab": {
          "base_uri": "https://localhost:8080/"
        },
        "id": "sW2WQJ4KE-Yt",
        "outputId": "cb025e23-c376-43f0-aace-cab77b331b2e"
      },
      "execution_count": 6,
      "outputs": [
        {
          "output_type": "stream",
          "name": "stdout",
          "text": [
            "16.5\n",
            "<class 'float'>\n"
          ]
        }
      ]
    },
    {
      "cell_type": "code",
      "source": [
        "#conversão de um valor do tipo inteiro para um valor do tipo string\n",
        "a = 100\n",
        "b = str(a)\n",
        "print(b)\n",
        "print(type(b))\n",
        "\n",
        "#conversão de um valor do tipo float para um valor do tipo inteiro\n",
        "\n",
        "c = 12.00\n",
        "d = int(c) #uma espécia de casting - converte para o tipo especificado antes\n",
        "print(c)\n",
        "print(d)\n",
        "print(type(d))\n",
        "\n",
        "#conversão de um valor do tipo inteiro para um valor do tipo float\n",
        "\n",
        "e = 10\n",
        "f = float(e)\n",
        "print(f)\n",
        "print(type(f))"
      ],
      "metadata": {
        "colab": {
          "base_uri": "https://localhost:8080/"
        },
        "id": "Yy5f1hT6FTih",
        "outputId": "a1781149-b065-46f5-ed63-93f7d9a52d38"
      },
      "execution_count": 10,
      "outputs": [
        {
          "output_type": "stream",
          "name": "stdout",
          "text": [
            "100\n",
            "<class 'str'>\n",
            "12.0\n",
            "12\n",
            "<class 'int'>\n",
            "10.0\n",
            "<class 'float'>\n"
          ]
        }
      ]
    },
    {
      "cell_type": "code",
      "source": [
        "#Expressões\n",
        "\n"
      ],
      "metadata": {
        "id": "zhsPuTPfGgNI"
      },
      "execution_count": null,
      "outputs": []
    }
  ]
}