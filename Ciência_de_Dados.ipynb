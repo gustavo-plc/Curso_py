{
  "nbformat": 4,
  "nbformat_minor": 0,
  "metadata": {
    "colab": {
      "provenance": [],
      "authorship_tag": "ABX9TyMz+3uMIKIcpUr1VX040pl3",
      "include_colab_link": true
    },
    "kernelspec": {
      "name": "python3",
      "display_name": "Python 3"
    },
    "language_info": {
      "name": "python"
    }
  },
  "cells": [
    {
      "cell_type": "markdown",
      "metadata": {
        "id": "view-in-github",
        "colab_type": "text"
      },
      "source": [
        "<a href=\"https://colab.research.google.com/github/gustavo-plc/Curso_py/blob/main/Ci%C3%AAncia_de_Dados.ipynb\" target=\"_parent\"><img src=\"https://colab.research.google.com/assets/colab-badge.svg\" alt=\"Open In Colab\"/></a>"
      ]
    },
    {
      "cell_type": "code",
      "execution_count": null,
      "metadata": {
        "colab": {
          "base_uri": "https://localhost:8080/"
        },
        "id": "9OG3gi4XDQES",
        "outputId": "1c0e5457-c806-4d00-d47f-06cb4a4ce574"
      },
      "outputs": [
        {
          "output_type": "stream",
          "name": "stdout",
          "text": [
            "Primeiro código!\n"
          ]
        }
      ],
      "source": [
        "print('Primeiro código!')"
      ]
    },
    {
      "cell_type": "code",
      "source": [
        "valor_int = 3 #tipo inteiro\n",
        "valor_float = 1.5 #tipo ponto flutuante\n",
        "string = \"Olá mundo!\" #tipo string\n",
        "var_bool = True #tipo booleano\n",
        "var_complex = 3+4j\n",
        "\n",
        "print(type(valor_int))\n",
        "print(type(valor_float))\n",
        "print(type(string))\n",
        "print(type(var_bool))\n",
        "print(type(var_complex))"
      ],
      "metadata": {
        "colab": {
          "base_uri": "https://localhost:8080/"
        },
        "id": "gIuyaObnEBHL",
        "outputId": "aab001b3-72fe-452a-95f5-73cbedf2b4b8"
      },
      "execution_count": null,
      "outputs": [
        {
          "output_type": "stream",
          "name": "stdout",
          "text": [
            "<class 'int'>\n",
            "<class 'float'>\n",
            "<class 'str'>\n",
            "<class 'bool'>\n",
            "<class 'complex'>\n"
          ]
        }
      ]
    },
    {
      "cell_type": "code",
      "source": [
        "valor_int = 15\n",
        "valor_float = 1.5\n",
        "soma = valor_int + valor_float\n",
        "print(soma)\n",
        "print(type(soma))"
      ],
      "metadata": {
        "colab": {
          "base_uri": "https://localhost:8080/"
        },
        "id": "sW2WQJ4KE-Yt",
        "outputId": "cb025e23-c376-43f0-aace-cab77b331b2e"
      },
      "execution_count": null,
      "outputs": [
        {
          "output_type": "stream",
          "name": "stdout",
          "text": [
            "16.5\n",
            "<class 'float'>\n"
          ]
        }
      ]
    },
    {
      "cell_type": "code",
      "source": [
        "#conversão de um valor do tipo inteiro para um valor do tipo string\n",
        "a = 100\n",
        "b = str(a)\n",
        "print(b)\n",
        "print(type(b))\n",
        "\n",
        "#conversão de um valor do tipo float para um valor do tipo inteiro\n",
        "\n",
        "c = 12.00\n",
        "d = int(c) #uma espécia de casting - converte para o tipo especificado antes\n",
        "print(c)\n",
        "print(d)\n",
        "print(type(d))\n",
        "\n",
        "#conversão de um valor do tipo inteiro para um valor do tipo float\n",
        "\n",
        "e = 10\n",
        "f = float(e)\n",
        "print(f)\n",
        "print(type(f))"
      ],
      "metadata": {
        "colab": {
          "base_uri": "https://localhost:8080/"
        },
        "id": "Yy5f1hT6FTih",
        "outputId": "a1781149-b065-46f5-ed63-93f7d9a52d38"
      },
      "execution_count": null,
      "outputs": [
        {
          "output_type": "stream",
          "name": "stdout",
          "text": [
            "100\n",
            "<class 'str'>\n",
            "12.0\n",
            "12\n",
            "<class 'int'>\n",
            "10.0\n",
            "<class 'float'>\n"
          ]
        }
      ]
    },
    {
      "cell_type": "code",
      "source": [
        "#Expressões\n",
        "\n",
        "a = 10\n",
        "b = 3\n",
        "\n",
        "#soma do valor de duas variáveis\n",
        "\n",
        "soma = a + b\n",
        "\n",
        "#subtração do valor de duas variáveis\n",
        "\n",
        "sub = a - b\n",
        "\n",
        "#divisão do valor de duas variáveis\n",
        "\n",
        "div = a / b\n",
        "\n",
        "#multiplicação do valor de duas variáveis\n",
        "\n",
        "mult = a * b\n",
        "\n",
        "print(\"soma: %d\" % (soma))\n",
        "print(\"subtração: %d\" % (sub))\n",
        "print(\"divisão inteira: %d\" % (div)) #inteira\n",
        "print(\"divisão fracionada: %.2f\" % float(div)) #fracionada\n",
        "print(\"multiplicação: %d\" % (mult))\n",
        "\n",
        "#resto de uma divisão de um inteiro por um inteiro\n",
        "\n",
        "res = a % b #resto da divisão de a por b\n",
        "\n",
        "#resultado de elevar um valor do tipo inteiro a outro do tipo inteiro\n",
        "\n",
        "exp = a ** b\n",
        "\n",
        "#piso: parte inteira da divisão de valores inteiros\n",
        "\n",
        "pis = a // b\n",
        "\n",
        "print(\"Resto: %d\" % (res))\n",
        "print(\"Exponencial: %d\" % (exp))\n",
        "print(\"Piso: %d\" % (pis))\n",
        "\n",
        "#trabalhando print\n",
        "\n",
        "nome = \"Gustavo\"\n",
        "idade = 36\n",
        "altura = 1.71\n",
        "\n",
        "print(\"Meu nome é %s, tenho %d anos e meço %.2fm\" % (nome, idade, altura)) #análogo ao C\n",
        "\n",
        "#outra forma de se utilizar a função print\n",
        "\n",
        "aux_01 = 2\n",
        "aux_02 = 3\n",
        "\n",
        "print(\"O valor da primeira variável é {} enquanto o da segunda é {}\" .format(aux_01, aux_02))\n",
        "\n",
        "#operadores\n",
        "\n",
        "a = 5\n",
        "b = 2\n",
        "\n",
        "c = a < b\n",
        "d = a > b\n",
        "e = a == b\n",
        "\n",
        "print(\"Valor de c: \", c)\n",
        "print(\"Valor de d: \", d)\n",
        "print(\"Valor de e: \", e)\n",
        "print(a >= b)\n",
        "print(b <= b)\n",
        "\n",
        "a = 10\n",
        "b = 2\n",
        "\n",
        "a += b #a+b\n",
        "print(a)\n",
        "a -= b #a-b\n",
        "print(a)\n",
        "a /= b #a/b\n",
        "print(a)\n",
        "a *= b #a*b\n",
        "print(a)"
      ],
      "metadata": {
        "id": "zhsPuTPfGgNI",
        "colab": {
          "base_uri": "https://localhost:8080/"
        },
        "outputId": "21dd94cc-05c7-47a6-aa4c-4f30604b62ef"
      },
      "execution_count": null,
      "outputs": [
        {
          "output_type": "stream",
          "name": "stdout",
          "text": [
            "soma: 13\n",
            "subtração: 7\n",
            "divisão inteira: 3\n",
            "divisão fracionada: 3.33\n",
            "multiplicação: 30\n",
            "Resto: 1\n",
            "Exponencial: 1000\n",
            "Piso: 3\n",
            "Meu nome é Gustavo, tenho 36 anos e meço 1.71m\n",
            "O valor da primeira variável é 2 enquanto o da segunda é 3\n",
            "Valor de c:  False\n",
            "Valor de d:  True\n",
            "Valor de e:  False\n",
            "True\n",
            "True\n",
            "12\n",
            "10\n",
            "5.0\n",
            "10.0\n"
          ]
        }
      ]
    },
    {
      "cell_type": "code",
      "source": [
        "nome = input(\"Qual é o seu nome? \") #usuário entra com string, não há casting\n",
        "idade = int(input(\"Qual sua idade? \")) #entende entrada string como int\n",
        "altura = float(input(\"Qual a sua altura? \")) #entende entrada como float\n",
        "peso = float(input(\"Qual o seu peso? \"))\n",
        "\n",
        "print(\"Nome: %s\" % nome)\n",
        "print(\"Idade: %d\" % idade)\n",
        "\n",
        "imc = peso/(altura * altura)\n",
        "\n",
        "print(\"IMC = %.2f\" % imc)\n",
        "print(\"Muito abaixo do peso: \", imc < 17)\n",
        "print(\"Abaixo do peso normal: \", imc >= 17 and imc < 18.5)\n",
        "print(\"Peso normal: \", imc >= 18.5 and imc < 25)\n",
        "print(\"Acima do peso normal: \", imc >= 25 and imc < 30)\n",
        "print(\"Muito acima do peso: \", imc >= 30)\n"
      ],
      "metadata": {
        "colab": {
          "base_uri": "https://localhost:8080/"
        },
        "id": "X8DY7fsAnYin",
        "outputId": "aa0e6623-6374-4bf0-988b-c4e0dbdfee2d"
      },
      "execution_count": null,
      "outputs": [
        {
          "output_type": "stream",
          "name": "stdout",
          "text": [
            "Qual é o seu nome? gustavo\n",
            "Qual sua idade? 34\n",
            "Qual a sua altura? 1.80\n",
            "Qual o seu peso? 77\n",
            "Nome: gustavo\n",
            "Idade: 34\n",
            "IMC = 23.77\n",
            "Muito abaixo do peso:  False\n",
            "Abaixo do peso normal:  False\n",
            "Peso normal:  True\n",
            "Acima do peso normal:  False\n",
            "Muito acima do peso:  False\n"
          ]
        }
      ]
    },
    {
      "cell_type": "code",
      "source": [
        "#condicionais\n",
        "\n",
        "nota = float(input(\"Digite sua nota: \"))\n",
        "\n",
        "if nota < 60:\n",
        "  print(\"Reprovado!\")\n",
        "else:\n",
        "  print(\"Aprovado!\")\n",
        "\n",
        "if nota < 30:\n",
        "  print(\"Reprovado!\")\n",
        "elif nota <= 50:\n",
        "  print(\"Recuperação!\")\n",
        "else:\n",
        "  print(\"Aprovado!\")\n",
        "\n",
        "n1 = int(input(\"Digite o primeiro número: \"))\n",
        "n2 = int(input(\"Digite o segundo número: \"))\n",
        "\n",
        "if n1 > n2:\n",
        "  print(n1, \"maior que\", n2)\n",
        "elif n1 < n2:\n",
        "  print(\"%d maior que %d\" % (n2, n1)) #outra forma de print\n",
        "else:\n",
        "  print(\"Os números \", n1, \" e \", n2, \" são iguais!\") #outra forma de print\n"
      ],
      "metadata": {
        "colab": {
          "base_uri": "https://localhost:8080/"
        },
        "id": "xWh-X4Icrf3a",
        "outputId": "426fd6d8-1314-4d40-8415-4a8f7a564e24"
      },
      "execution_count": null,
      "outputs": [
        {
          "output_type": "stream",
          "name": "stdout",
          "text": [
            "Digite sua nota: 20\n",
            "Reprovado!\n",
            "Reprovado!\n",
            "Digite o primeiro número: 20\n",
            "Digite o segundo número: 20\n",
            "Os números  20  e  20  são iguais!\n"
          ]
        }
      ]
    },
    {
      "cell_type": "code",
      "source": [
        "#laços de repetição\n",
        "\n",
        "#número pré-definido de vezes: for\n",
        "#número indefinido de vezes, enquanto for verdadeira a condição: while\n",
        "\n",
        "cont = 1\n",
        "\n",
        "while cont <= 5:\n",
        "  print(cont)\n",
        "  cont += 1 #em C, seria cont++\n",
        "\n",
        "nota = -1\n",
        "while nota < 0 or nota > 10: #comando de repetição que só aceita se nota for valor válido\n",
        "  nota = int(input(\"Digite uma nota entre 0 e 10: \"))\n",
        "print(\"nota: %d\" % nota)"
      ],
      "metadata": {
        "colab": {
          "base_uri": "https://localhost:8080/"
        },
        "id": "KEVP7lRKtq88",
        "outputId": "90972659-c640-4c79-80ee-a70896f58a76"
      },
      "execution_count": null,
      "outputs": [
        {
          "output_type": "stream",
          "name": "stdout",
          "text": [
            "1\n",
            "2\n",
            "3\n",
            "4\n",
            "5\n",
            "Digite uma nota entre 0 e 10: 5\n",
            "nota: 5\n"
          ]
        }
      ]
    },
    {
      "cell_type": "code",
      "source": [
        "#comando for: quando se sabe quantas iterações eu vou precisar executar um dado bloco de comandos\n",
        "\n",
        "\n"
      ],
      "metadata": {
        "id": "vmtecLeg1_ZJ"
      },
      "execution_count": null,
      "outputs": []
    }
  ]
}